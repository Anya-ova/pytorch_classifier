{
  "nbformat": 4,
  "nbformat_minor": 0,
  "metadata": {
    "colab": {
      "provenance": [],
      "authorship_tag": "ABX9TyOzYNYaH92DI8IRlRO+7RyD",
      "include_colab_link": true
    },
    "kernelspec": {
      "name": "python3",
      "display_name": "Python 3"
    },
    "language_info": {
      "name": "python"
    },
    "accelerator": "GPU",
    "gpuClass": "standard"
  },
  "cells": [
    {
      "cell_type": "markdown",
      "metadata": {
        "id": "view-in-github",
        "colab_type": "text"
      },
      "source": [
        "<a href=\"https://colab.research.google.com/github/Anya-ova/pytorch_classifier/blob/main/linear_model_pytorch.ipynb\" target=\"_parent\"><img src=\"https://colab.research.google.com/assets/colab-badge.svg\" alt=\"Open In Colab\"/></a>"
      ]
    },
    {
      "cell_type": "code",
      "execution_count": 1,
      "metadata": {
        "id": "tqZ8wMj5zywE"
      },
      "outputs": [],
      "source": [
        "import torch\n",
        "from torch import nn\n",
        "from torch.utils.data import DataLoader\n",
        "from torchvision.utils import make_grid\n",
        "from torchvision.datasets import CIFAR10\n",
        "from torchvision.transforms import ToTensor\n",
        "from torchvision.transforms import Normalize, Compose\n",
        "import os\n",
        "import matplotlib.pyplot as plt\n",
        "import numpy as np"
      ]
    },
    {
      "cell_type": "code",
      "source": [
        "transform = Compose(\n",
        "    [ToTensor(),\n",
        "     Normalize((0.5, 0.5, 0.5),  # mean\n",
        "               (0.5, 0.5, 0.5))] # std. deviation\n",
        ")"
      ],
      "metadata": {
        "id": "ffXHsyLp1v9X"
      },
      "execution_count": 2,
      "outputs": []
    },
    {
      "cell_type": "code",
      "source": [
        "training_data = CIFAR10(root=\"cifar\",\n",
        "                        train = True, # train set, 50k images\n",
        "                        download = True,\n",
        "                        transform=transform)\n",
        "test_data = CIFAR10(root = \"cifar\",\n",
        "                    train = False, # test set, 10k images\n",
        "                    download = True,\n",
        "                    transform = transform)"
      ],
      "metadata": {
        "colab": {
          "base_uri": "https://localhost:8080/"
        },
        "id": "U1n088_Y11um",
        "outputId": "29d3f69a-728a-4731-dd01-d0d8cf37613f"
      },
      "execution_count": 3,
      "outputs": [
        {
          "output_type": "stream",
          "name": "stdout",
          "text": [
            "Downloading https://www.cs.toronto.edu/~kriz/cifar-10-python.tar.gz to cifar/cifar-10-python.tar.gz\n"
          ]
        },
        {
          "output_type": "stream",
          "name": "stderr",
          "text": [
            "100%|██████████| 170498071/170498071 [00:13<00:00, 12645312.39it/s]\n"
          ]
        },
        {
          "output_type": "stream",
          "name": "stdout",
          "text": [
            "Extracting cifar/cifar-10-python.tar.gz to cifar\n",
            "Files already downloaded and verified\n"
          ]
        }
      ]
    },
    {
      "cell_type": "code",
      "source": [
        "batch_size = 4\n",
        "train_dataloader = DataLoader(training_data, \n",
        "                              batch_size=batch_size, \n",
        "                              shuffle=True)\n",
        "test_dataloader = DataLoader(test_data, \n",
        "                             batch_size=batch_size, \n",
        "                             shuffle=True)"
      ],
      "metadata": {
        "id": "REvUPRgp2TCM"
      },
      "execution_count": 4,
      "outputs": []
    },
    {
      "cell_type": "code",
      "source": [
        "for X, y in train_dataloader:\n",
        "  print(f\"Shape of X [N, C, H, W]: {X.shape}\")\n",
        "  print(f\"Shape of y: {y.shape} {y.dtype}\")\n",
        "  break"
      ],
      "metadata": {
        "colab": {
          "base_uri": "https://localhost:8080/"
        },
        "id": "nsWHP8P-2_uI",
        "outputId": "5dc36aa0-0d3e-4120-dce3-092b7c15fd24"
      },
      "execution_count": 5,
      "outputs": [
        {
          "output_type": "stream",
          "name": "stdout",
          "text": [
            "Shape of X [N, C, H, W]: torch.Size([4, 3, 32, 32])\n",
            "Shape of y: torch.Size([4]) torch.int64\n"
          ]
        }
      ]
    },
    {
      "cell_type": "code",
      "source": [
        "def imshow(img):\n",
        "  img = img / 2 + .05 # revert normalization for viewing\n",
        "  npimg = img.numpy()\n",
        "  plt.imshow(np.transpose(npimg, (1,2,0)))\n",
        "  plt.show()\n",
        "  \n",
        "classes = training_data.classes\n",
        "training_data.classes\n",
        "\n",
        "dataiter = iter(train_dataloader)\n",
        "# images, labels = dataiter.next()\n",
        "images, labels = next(dataiter)\n",
        "imshow(make_grid(images))\n",
        "print(' '.join(f'{classes[labels[j]]:5s}' for j in range(batch_size)))"
      ],
      "metadata": {
        "colab": {
          "base_uri": "https://localhost:8080/",
          "height": 228
        },
        "id": "9qoJs7gk3K0o",
        "outputId": "c7fdcc37-1cc9-4d04-bf7d-279181643160"
      },
      "execution_count": 6,
      "outputs": [
        {
          "output_type": "stream",
          "name": "stderr",
          "text": [
            "WARNING:matplotlib.image:Clipping input data to the valid range for imshow with RGB data ([0..1] for floats or [0..255] for integers).\n"
          ]
        },
        {
          "output_type": "display_data",
          "data": {
            "text/plain": [
              "<Figure size 640x480 with 1 Axes>"
            ],
            "image/png": "[encoded data removed]"
          },
          "metadata": {}
        },
        {
          "output_type": "stream",
          "name": "stdout",
          "text": [
            "horse ship  horse truck\n"
          ]
        }
      ]
    },
    {
      "cell_type": "code",
      "source": [
        "device = \"cuda\" if torch.cuda.is_available() else \"cpu\""
      ],
      "metadata": {
        "id": "jl_ixJPV6O2y"
      },
      "execution_count": 7,
      "outputs": []
    },
    {
      "cell_type": "code",
      "source": [
        "class NeuralNetwork(nn.Module):\n",
        "    def __init__(self):\n",
        "        super(NeuralNetwork, self).__init__()\n",
        "        self.flatten = nn.Flatten()\n",
        "        self.linear_relu_stack = nn.Sequential(\n",
        "            nn.Linear(32*32*3, 1024),\n",
        "            nn.ReLU(),\n",
        "            nn.Linear(1024, 512),\n",
        "            nn.ReLU(),\n",
        "            nn.Linear(512, 10)\n",
        "        )\n",
        "    def forward(self, x):\n",
        "        x = self.flatten(x)\n",
        "        logits = self.linear_relu_stack(x)\n",
        "        return logits\n",
        "        \n",
        "model = NeuralNetwork().to(device)\n",
        "print(model)"
      ],
      "metadata": {
        "colab": {
          "base_uri": "https://localhost:8080/"
        },
        "id": "npPD8BEY4bdM",
        "outputId": "d6a430b8-42ee-4b81-f73b-b4a2397927ae"
      },
      "execution_count": 8,
      "outputs": [
        {
          "output_type": "stream",
          "name": "stdout",
          "text": [
            "NeuralNetwork(\n",
            "  (flatten): Flatten(start_dim=1, end_dim=-1)\n",
            "  (linear_relu_stack): Sequential(\n",
            "    (0): Linear(in_features=3072, out_features=1024, bias=True)\n",
            "    (1): ReLU()\n",
            "    (2): Linear(in_features=1024, out_features=512, bias=True)\n",
            "    (3): ReLU()\n",
            "    (4): Linear(in_features=512, out_features=10, bias=True)\n",
            "  )\n",
            ")\n"
          ]
        }
      ]
    },
    {
      "cell_type": "code",
      "source": [
        "loss_fn = nn.CrossEntropyLoss()\n",
        "optimizer = torch.optim.SGD( model.parameters(), lr=0.001 ) # momentum=0.9"
      ],
      "metadata": {
        "id": "bEOmpQpS5ws-"
      },
      "execution_count": 9,
      "outputs": []
    },
    {
      "cell_type": "code",
      "source": [
        "def train(dataloader, model, loss_fn, optimizer):\n",
        "    size = len(dataloader.dataset)\n",
        "    model.train()\n",
        "    for batch, (X, y) in enumerate(dataloader):\n",
        "        X, y = X.to(device), y.to(device)\n",
        "        # Compute prediction error\n",
        "        pred = model(X)\n",
        "        loss = loss_fn(pred, y)\n",
        "        # Backpropagation\n",
        "        optimizer.zero_grad()\n",
        "        loss.backward()\n",
        "        optimizer.step()\n",
        "        if batch % 2000 == 0:\n",
        "            loss, current = loss.item(), batch * len(X)\n",
        "            print(f\"loss: {loss:>7f}  [{current:>5d}/{size:>5d}]\")"
      ],
      "metadata": {
        "id": "eKlQ_F597foo"
      },
      "execution_count": 10,
      "outputs": []
    },
    {
      "cell_type": "code",
      "source": [
        "def test(dataloader, model, loss_fn):\n",
        "    size = len(dataloader.dataset)\n",
        "    num_batches = len(dataloader)\n",
        "    model.eval()\n",
        "    test_loss, correct = 0, 0\n",
        "    with torch.no_grad():\n",
        "        for X, y in dataloader:\n",
        "            X, y = X.to(device), y.to(device)\n",
        "            pred = model(X)\n",
        "            test_loss += loss_fn(pred, y).item()\n",
        "            correct += (pred.argmax(1) == y).type(torch.float).sum().item()\n",
        "    test_loss /= num_batches\n",
        "    correct /= size\n",
        "    print(f\"Test Error: \\n Accuracy: {(100*correct):>0.1f}%, Avg loss: {test_loss:>8f} \\n\")"
      ],
      "metadata": {
        "id": "Vm1YCi8K7kY1"
      },
      "execution_count": 11,
      "outputs": []
    },
    {
      "cell_type": "code",
      "source": [
        "epochs = 10\n",
        "for t in range(epochs):\n",
        "    print(f\"Epoch {t+1}\\n-------------------------------\")\n",
        "    train(train_dataloader, model, loss_fn, optimizer)\n",
        "    test(test_dataloader, model, loss_fn)\n",
        "print(\"Done!\")"
      ],
      "metadata": {
        "colab": {
          "base_uri": "https://localhost:8080/"
        },
        "id": "MRLoUHqqQMRz",
        "outputId": "0cb513f9-ef0a-4b59-d59b-067bd3b51b79"
      },
      "execution_count": 12,
      "outputs": [
        {
          "output_type": "stream",
          "name": "stdout",
          "text": [
            "Epoch 1\n",
            "-------------------------------\n",
            "loss: 2.262868  [    0/50000]\n",
            "loss: 2.235204  [ 8000/50000]\n",
            "loss: 2.630241  [16000/50000]\n",
            "loss: 1.321083  [24000/50000]\n",
            "loss: 1.562536  [32000/50000]\n",
            "loss: 2.685537  [40000/50000]\n",
            "loss: 1.494002  [48000/50000]\n",
            "Test Error: \n",
            " Accuracy: 39.8%, Avg loss: 1.713698 \n",
            "\n",
            "Epoch 2\n",
            "-------------------------------\n",
            "loss: 2.585518  [    0/50000]\n",
            "loss: 2.344632  [ 8000/50000]\n",
            "loss: 1.821726  [16000/50000]\n",
            "loss: 2.074328  [24000/50000]\n",
            "loss: 1.214689  [32000/50000]\n",
            "loss: 1.643433  [40000/50000]\n",
            "loss: 2.105518  [48000/50000]\n",
            "Test Error: \n",
            " Accuracy: 45.1%, Avg loss: 1.567960 \n",
            "\n",
            "Epoch 3\n",
            "-------------------------------\n",
            "loss: 1.011833  [    0/50000]\n",
            "loss: 1.602669  [ 8000/50000]\n",
            "loss: 1.613402  [16000/50000]\n",
            "loss: 1.189451  [24000/50000]\n",
            "loss: 1.208729  [32000/50000]\n",
            "loss: 0.827125  [40000/50000]\n",
            "loss: 1.109286  [48000/50000]\n",
            "Test Error: \n",
            " Accuracy: 47.8%, Avg loss: 1.487063 \n",
            "\n",
            "Epoch 4\n",
            "-------------------------------\n",
            "loss: 2.032939  [    0/50000]\n",
            "loss: 1.690580  [ 8000/50000]\n",
            "loss: 1.356220  [16000/50000]\n",
            "loss: 1.334679  [24000/50000]\n",
            "loss: 0.747812  [32000/50000]\n",
            "loss: 2.499226  [40000/50000]\n",
            "loss: 0.885326  [48000/50000]\n",
            "Test Error: \n",
            " Accuracy: 49.8%, Avg loss: 1.434158 \n",
            "\n",
            "Epoch 5\n",
            "-------------------------------\n",
            "loss: 1.290983  [    0/50000]\n",
            "loss: 0.999664  [ 8000/50000]\n",
            "loss: 1.267784  [16000/50000]\n",
            "loss: 1.367937  [24000/50000]\n",
            "loss: 2.571419  [32000/50000]\n",
            "loss: 1.136940  [40000/50000]\n",
            "loss: 0.916694  [48000/50000]\n",
            "Test Error: \n",
            " Accuracy: 51.4%, Avg loss: 1.387753 \n",
            "\n",
            "Epoch 6\n",
            "-------------------------------\n",
            "loss: 0.956967  [    0/50000]\n",
            "loss: 1.329658  [ 8000/50000]\n",
            "loss: 1.825710  [16000/50000]\n",
            "loss: 1.174911  [24000/50000]\n",
            "loss: 1.200166  [32000/50000]\n",
            "loss: 0.798109  [40000/50000]\n",
            "loss: 1.155390  [48000/50000]\n",
            "Test Error: \n",
            " Accuracy: 51.5%, Avg loss: 1.363705 \n",
            "\n",
            "Epoch 7\n",
            "-------------------------------\n",
            "loss: 0.878654  [    0/50000]\n",
            "loss: 0.652634  [ 8000/50000]\n",
            "loss: 0.703752  [16000/50000]\n",
            "loss: 1.672644  [24000/50000]\n",
            "loss: 1.385432  [32000/50000]\n",
            "loss: 0.675970  [40000/50000]\n",
            "loss: 1.070606  [48000/50000]\n",
            "Test Error: \n",
            " Accuracy: 52.4%, Avg loss: 1.357958 \n",
            "\n",
            "Epoch 8\n",
            "-------------------------------\n",
            "loss: 1.070752  [    0/50000]\n",
            "loss: 0.355837  [ 8000/50000]\n",
            "loss: 0.947665  [16000/50000]\n",
            "loss: 0.741063  [24000/50000]\n",
            "loss: 0.948363  [32000/50000]\n",
            "loss: 0.687003  [40000/50000]\n",
            "loss: 1.244311  [48000/50000]\n",
            "Test Error: \n",
            " Accuracy: 52.8%, Avg loss: 1.342004 \n",
            "\n",
            "Epoch 9\n",
            "-------------------------------\n",
            "loss: 0.486225  [    0/50000]\n",
            "loss: 0.787590  [ 8000/50000]\n",
            "loss: 1.015806  [16000/50000]\n",
            "loss: 0.694919  [24000/50000]\n",
            "loss: 1.517014  [32000/50000]\n",
            "loss: 1.158523  [40000/50000]\n",
            "loss: 1.045824  [48000/50000]\n",
            "Test Error: \n",
            " Accuracy: 53.8%, Avg loss: 1.328180 \n",
            "\n",
            "Epoch 10\n",
            "-------------------------------\n",
            "loss: 0.108073  [    0/50000]\n",
            "loss: 0.224762  [ 8000/50000]\n",
            "loss: 0.789806  [16000/50000]\n",
            "loss: 1.529292  [24000/50000]\n",
            "loss: 1.267033  [32000/50000]\n",
            "loss: 1.023113  [40000/50000]\n",
            "loss: 1.947852  [48000/50000]\n",
            "Test Error: \n",
            " Accuracy: 53.5%, Avg loss: 1.320014 \n",
            "\n",
            "Done!\n"
          ]
        }
      ]
    },
    {
      "cell_type": "code",
      "source": [
        "dataiter = iter(test_dataloader)\n",
        "images, labels = next(dataiter)\n",
        "imshow(make_grid(images))\n",
        "print('Ground Truth: ', ' '.join(f'{classes[labels[j]]:5s}' for j in range(4)))"
      ],
      "metadata": {
        "colab": {
          "base_uri": "https://localhost:8080/",
          "height": 228
        },
        "id": "BJL_NuIXQPMF",
        "outputId": "17b10b72-c139-4420-83ff-03f2b83df9af"
      },
      "execution_count": 13,
      "outputs": [
        {
          "output_type": "stream",
          "name": "stderr",
          "text": [
            "WARNING:matplotlib.image:Clipping input data to the valid range for imshow with RGB data ([0..1] for floats or [0..255] for integers).\n"
          ]
        },
        {
          "output_type": "display_data",
          "data": {
            "text/plain": [
              "<Figure size 640x480 with 1 Axes>"
            ],
            "image/png": "[encoded data removed]"
          },
          "metadata": {}
        },
        {
          "output_type": "stream",
          "name": "stdout",
          "text": [
            "Ground Truth:  horse ship  airplane deer \n"
          ]
        }
      ]
    },
    {
      "cell_type": "code",
      "source": [
        "outputs = model(images.cuda())\n",
        "_, predicted = torch.max(outputs, 1)\n",
        "print('Predicted: ', ' '.join(f'{classes[predicted[j]]:5s}' for j in range(4)))"
      ],
      "metadata": {
        "colab": {
          "base_uri": "https://localhost:8080/"
        },
        "id": "KPAcgVJ_QdBL",
        "outputId": "8fe498ee-fac0-44d4-c583-2a66a656d25b"
      },
      "execution_count": 14,
      "outputs": [
        {
          "output_type": "stream",
          "name": "stdout",
          "text": [
            "Predicted:  horse truck airplane ship \n"
          ]
        }
      ]
    },
    {
      "cell_type": "code",
      "source": [
        "correct = 0\n",
        "total = 0\n",
        "with torch.no_grad():\n",
        "   for data in test_dataloader:\n",
        "     images, labels = data\n",
        "     outputs = model(images.cuda())\n",
        "     _, predicted = torch.max(outputs.data, 1)\n",
        "     total += labels.size(0)\n",
        "     correct += (predicted == labels.cuda()).sum().item()\n",
        "     \n",
        "print(f'Model accuracy: {100 * correct // total} %')"
      ],
      "metadata": {
        "colab": {
          "base_uri": "https://localhost:8080/"
        },
        "id": "StiD4r9AU1Ou",
        "outputId": "7a0d4e2d-5ecd-453d-a1cc-f3d0d1389fca"
      },
      "execution_count": 15,
      "outputs": [
        {
          "output_type": "stream",
          "name": "stdout",
          "text": [
            "Model accuracy: 53 %\n"
          ]
        }
      ]
    },
    {
      "cell_type": "code",
      "source": [
        "correct_pred = {classname: 0 for classname in classes}\n",
        "total_pred = {classname: 0  for classname in classes}\n",
        "with torch.no_grad():\n",
        "  for data in test_dataloader:\n",
        "    images, labels = data\n",
        "    outputs = model(images.cuda())\n",
        "    _, predictions = torch.max(outputs, 1)\n",
        "    for label,prediction in zip(labels, predictions):\n",
        "      if label == prediction:\n",
        "        correct_pred[classes[label]] += 1\n",
        "      total_pred[classes[label]] += 1\n",
        "for classname, correct_count in correct_pred.items():\n",
        "  accuracy = 100 * float(correct_count) / total_pred[classname]\n",
        "  print(f'Accuracy for class {classname:5s}: {accuracy:.1f}%')"
      ],
      "metadata": {
        "colab": {
          "base_uri": "https://localhost:8080/"
        },
        "id": "UQWW9ulkTwzD",
        "outputId": "4c660312-81d5-4b3a-88ea-348057fb5023"
      },
      "execution_count": 16,
      "outputs": [
        {
          "output_type": "stream",
          "name": "stdout",
          "text": [
            "Accuracy for class airplane: 55.0%\n",
            "Accuracy for class automobile: 68.6%\n",
            "Accuracy for class bird : 40.7%\n",
            "Accuracy for class cat  : 36.0%\n",
            "Accuracy for class deer : 38.3%\n",
            "Accuracy for class dog  : 40.8%\n",
            "Accuracy for class frog : 72.5%\n",
            "Accuracy for class horse: 57.6%\n",
            "Accuracy for class ship : 70.5%\n",
            "Accuracy for class truck: 54.8%\n"
          ]
        }
      ]
    },
    {
      "cell_type": "code",
      "source": [],
      "metadata": {
        "id": "MA4_PEeaTchE"
      },
      "execution_count": null,
      "outputs": []
    }
  ]
}